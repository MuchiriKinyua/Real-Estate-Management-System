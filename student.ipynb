{
 "cells": [
  {
   "cell_type": "markdown",
   "id": "eb2f1509",
   "metadata": {},
   "source": [
    "# 1.1 Introduction"
   ]
  },
  {
   "cell_type": "markdown",
   "id": "4a776305",
   "metadata": {},
   "source": [
    "# 1.2 Problem Statement"
   ]
  },
  {
   "cell_type": "markdown",
   "id": "fc41d32f",
   "metadata": {},
   "source": [
    "# 1.3 Main Objective"
   ]
  },
  {
   "cell_type": "markdown",
   "id": "e5eb0842",
   "metadata": {},
   "source": [
    "# 1.4 Specific Objectives"
   ]
  },
  {
   "cell_type": "markdown",
   "id": "0f6ac05e",
   "metadata": {},
   "source": [
    "# 1.5 Notebook Structure"
   ]
  },
  {
   "cell_type": "markdown",
   "id": "71010833",
   "metadata": {},
   "source": [
    "## Introduction </br>\n",
    "## Problem Statement </br>\n",
    "## Main Objective </br>\n",
    "## Specific Objectives </br>\n",
    "## Importing Libraries </br>\n",
    "## Data Understanding </br>\n",
    "## Data Cleaning </br>\n",
    "## Modelling </br>\n",
    "## Regression Results </br>\n",
    "## Data Visualizations </br>\n",
    "## Conclusions </br>\n",
    "## Recommendations </br>\n",
    "## References </br>"
   ]
  },
  {
   "cell_type": "markdown",
   "id": "3555407a",
   "metadata": {},
   "source": [
    "## 2. Importing Libraries and filtering warnings"
   ]
  },
  {
   "cell_type": "code",
   "execution_count": 3,
   "id": "af631abd",
   "metadata": {},
   "outputs": [],
   "source": [
    "#import the relevant libraries\n",
    "import csv\n",
    "import pandas as pd\n",
    "import matplotlib.pyplot as plt\n",
    "import seaborn as sns\n",
    "import numpy as np\n",
    "import scipy.stats as stats\n",
    "import warnings\n",
    "%matplotlib inline\n",
    "warnings.filterwarnings(\"ignore\")"
   ]
  },
  {
   "cell_type": "markdown",
   "id": "30b11c1e",
   "metadata": {},
   "source": [
    "# 3. Data Understanding"
   ]
  },
  {
   "cell_type": "code",
   "execution_count": null,
   "id": "7abcd23b",
   "metadata": {},
   "outputs": [],
   "source": []
  }
 ],
 "metadata": {
  "kernelspec": {
   "display_name": "Python (learn-env)",
   "language": "python",
   "name": "learn-env"
  },
  "language_info": {
   "codemirror_mode": {
    "name": "ipython",
    "version": 3
   },
   "file_extension": ".py",
   "mimetype": "text/x-python",
   "name": "python",
   "nbconvert_exporter": "python",
   "pygments_lexer": "ipython3",
   "version": "3.10.11"
  }
 },
 "nbformat": 4,
 "nbformat_minor": 5
}
